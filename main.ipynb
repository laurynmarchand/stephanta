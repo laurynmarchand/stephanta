{
  "nbformat": 4,
  "nbformat_minor": 0,
  "metadata": {
    "colab": {
      "name": "main.ipynb",
      "provenance": []
    },
    "kernelspec": {
      "name": "python3",
      "display_name": "Python 3"
    }
  },
  "cells": [
    {
      "cell_type": "markdown",
      "metadata": {
        "id": "T7fGY39g1jm3"
      },
      "source": [
        "Dependencies\n",
        "\n"
      ]
    },
    {
      "cell_type": "code",
      "metadata": {
        "id": "wMGJSY3RrAZf"
      },
      "source": [
        "import numpy as np\n",
        "import pandas as pd\n",
        "from itertools import permutations\n",
        "\n",
        "# google maps api\n",
        "import googlemaps \n",
        "gmaps = googlemaps.Client(key='/') \n",
        "\n",
        "# data\n",
        "df = pd.read_csv('secretsanta.csv', index_col='name')"
      ],
      "execution_count": null,
      "outputs": []
    },
    {
      "cell_type": "markdown",
      "metadata": {
        "id": "keNSzPmR1pFt"
      },
      "source": [
        "Functions to find the distance and optimal route"
      ]
    },
    {
      "cell_type": "code",
      "metadata": {
        "id": "9RPVKAcAuSRv"
      },
      "source": [
        "# function to find the total distance from a list of names\n",
        "def find_distance(names):\n",
        "  max_distance = 0\n",
        "  for i in range(len(names)-1):\n",
        "    # distance between two postal codes\n",
        "    distance = gmaps.distance_matrix(df.loc[names[i]]['code'],df.loc[names[i+1]]['code'])['rows'][0]['elements'][0]\n",
        "    max_distance += distance['distance']['value']\n",
        "  return max_distance\n",
        "\n",
        "# function to find the optimal pick up route\n",
        "def pick_up(perms):\n",
        "  # checking each permutation for the number of gifts dropped off, and\n",
        "  # recording the optimal permutation based on the max\n",
        "  opt_stops = []\n",
        "  remaining = []\n",
        "  max_distance = 0\n",
        "  for perm in perms:\n",
        "    # stephanie is the first stop\n",
        "    stops = ['Stephanie']\n",
        "    # initializing remaining recipients\n",
        "    perm_remaining = []\n",
        "    for name in perm:\n",
        "      perm_remaining.append(name)\n",
        "\n",
        "    # iterating through each name in the permutation\n",
        "    for i in range(len(perm)):\n",
        "      # if gift giver is already in list from previous stop, drop off the gift\n",
        "      for j in range(len(stops)):\n",
        "        if df.loc[stops[j]]['recipient'] == perm[i]:\n",
        "          perm_remaining.remove(perm[i])\n",
        "      # add the name to the stops\n",
        "      stops.append(perm[i])\n",
        "    distance = find_distance(stops)\n",
        "    (stops, distance) = drop_off(stops, distance, perm_remaining)\n",
        "    # if the distance is minimized, this is the optimal pick up route\n",
        "    if distance <= max_distance or max_distance == 0:\n",
        "      print(stops, \"  \", distance)\n",
        "      max_distance = distance\n",
        "      opt_stops = stops\n",
        "      remaining = perm_remaining\n",
        "  return (opt_stops, max_distance)\n",
        "\n",
        "# function to find the optimal drop off route from the remaining names\n",
        "def drop_off(stops, distance, remaining):\n",
        "  # initialize the remaining names and their permutations\n",
        "  remaining_perms = list(permutations(remaining))\n",
        "  p = list(remaining_perms[0])\n",
        "  p.insert(0, stops[len(stops)-1])\n",
        "  p.append('Stephanie')\n",
        "  max_remaining_distance = find_distance(p)\n",
        "  opt_remaining_stops = p\n",
        "\n",
        "  # find the optimal remaining drop off route\n",
        "  for perm in remaining_perms:\n",
        "    perm = list(perm)\n",
        "    perm.insert(0, stops[len(stops)-1])\n",
        "    perm.append('Stephanie')\n",
        "    remaining_distance = find_distance(perm)\n",
        "    if remaining_distance < max_remaining_distance:\n",
        "      max_remaining_distance = remaining_distance\n",
        "      opt_remaining_stops = perm\n",
        "\n",
        "  # add the remaining stops and distance\n",
        "  for i in range(1, len(opt_remaining_stops)):\n",
        "    stops.append(opt_remaining_stops[i])\n",
        "\n",
        "  distance += max_remaining_distance\n",
        "  return (stops, distance)"
      ],
      "execution_count": null,
      "outputs": []
    },
    {
      "cell_type": "markdown",
      "metadata": {
        "id": "ukzGRWgR1syz"
      },
      "source": [
        "Optimal route"
      ]
    },
    {
      "cell_type": "code",
      "metadata": {
        "colab": {
          "base_uri": "https://localhost:8080/"
        },
        "id": "ED1tJ1kGudkA",
        "outputId": "4587a2b0-d341-4faf-c734-b9469532059d"
      },
      "source": [
        "# finding the permutations of all names\n",
        "names = []\n",
        "for name in df.index:\n",
        "  if name != 'Stephanie':\n",
        "    names.append(name)\n",
        "perms = list(permutations(names))\n",
        "\n",
        "# finding the optimal route\n",
        "(stops, distance) = pick_up(perms)\n",
        "\n",
        "print(\"Route:\")\n",
        "for i in range(len(stops)):\n",
        "  print(i+1, \" \", stops[i])\n",
        "print(\"Distance: \", distance/1000, \" km\")"
      ],
      "execution_count": null,
      "outputs": [
        {
          "output_type": "stream",
          "text": [
            "['Stephanie', 'Florencia ', 'Neha', 'Megan', 'Alex', 'Lauryn', 'Janie', 'Megan', 'Alex', 'Florencia ', 'Stephanie']    58289\n",
            "['Stephanie', 'Florencia ', 'Neha', 'Megan', 'Lauryn', 'Alex', 'Janie', 'Megan', 'Florencia ', 'Stephanie']    52816\n",
            "['Stephanie', 'Florencia ', 'Neha', 'Megan', 'Lauryn', 'Janie', 'Alex', 'Megan', 'Florencia ', 'Stephanie']    52043\n",
            "['Stephanie', 'Florencia ', 'Neha', 'Megan', 'Janie', 'Lauryn', 'Alex', 'Megan', 'Florencia ', 'Stephanie']    49706\n",
            "['Stephanie', 'Florencia ', 'Neha', 'Lauryn', 'Alex', 'Megan', 'Janie', 'Megan', 'Florencia ', 'Stephanie']    49706\n",
            "['Stephanie', 'Florencia ', 'Neha', 'Lauryn', 'Janie', 'Megan', 'Alex', 'Florencia ', 'Stephanie']    46133\n",
            "['Stephanie', 'Florencia ', 'Neha', 'Janie', 'Megan', 'Lauryn', 'Alex', 'Florencia ', 'Stephanie']    45015\n",
            "['Stephanie', 'Florencia ', 'Neha', 'Janie', 'Lauryn', 'Megan', 'Alex', 'Florencia ', 'Stephanie']    44211\n",
            "['Stephanie', 'Neha', 'Megan', 'Lauryn', 'Alex', 'Janie', 'Florencia ', 'Florencia ', 'Lauryn', 'Megan', 'Stephanie']    41897\n",
            "['Stephanie', 'Neha', 'Megan', 'Janie', 'Lauryn', 'Alex', 'Florencia ', 'Florencia ', 'Lauryn', 'Megan', 'Stephanie']    41738\n",
            "['Stephanie', 'Neha', 'Lauryn', 'Megan', 'Alex', 'Janie', 'Florencia ', 'Florencia ', 'Lauryn', 'Megan', 'Stephanie']    41093\n",
            "['Stephanie', 'Neha', 'Lauryn', 'Alex', 'Megan', 'Janie', 'Florencia ', 'Florencia ', 'Lauryn', 'Megan', 'Stephanie']    38787\n",
            "['Stephanie', 'Neha', 'Lauryn', 'Janie', 'Megan', 'Alex', 'Florencia ', 'Florencia ', 'Lauryn', 'Stephanie']    38516\n",
            "['Stephanie', 'Neha', 'Janie', 'Megan', 'Lauryn', 'Alex', 'Florencia ', 'Florencia ', 'Lauryn', 'Stephanie']    37398\n",
            "['Stephanie', 'Neha', 'Janie', 'Lauryn', 'Megan', 'Alex', 'Florencia ', 'Florencia ', 'Lauryn', 'Stephanie']    36594\n",
            "Route:\n",
            "1   Stephanie\n",
            "2   Neha\n",
            "3   Janie\n",
            "4   Lauryn\n",
            "5   Megan\n",
            "6   Alex\n",
            "7   Florencia \n",
            "8   Florencia \n",
            "9   Lauryn\n",
            "10   Stephanie\n",
            "Distance:  36.594  km\n"
          ],
          "name": "stdout"
        }
      ]
    }
  ]
}